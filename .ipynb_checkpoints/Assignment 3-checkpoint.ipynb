{
 "cells": [
  {
   "cell_type": "markdown",
   "metadata": {},
   "source": [
    "1. First create a file with your python module. This is where you should put your functions to be used in the notebook."
   ]
  },
  {
   "cell_type": "markdown",
   "metadata": {},
   "source": [
    "The file above is located in ./my_module.py"
   ]
  },
  {
   "cell_type": "markdown",
   "metadata": {},
   "source": [
    "2. Second create a function to read the csv file containing Copenhagen city population data and return a numpy array (numpy.ndarray). hint: use np.genfromtxt(filename, delimiter=',', dtype=np.uint, skip_header=1) as in the slides"
   ]
  },
  {
   "cell_type": "code",
   "execution_count": null,
   "metadata": {},
   "outputs": [],
   "source": [
    "from my_module import csv_to_np_array\n",
    "\n",
    "myFile = csv_to_np_array()\n",
    "print(myFile)\n"
   ]
  },
  {
   "cell_type": "markdown",
   "metadata": {},
   "source": [
    "3. Third create a function that can extract the number of all the citizens from native english speaking countries and from non english speaking countries. How many are there of each? (hint remember that with python you can return multiple values from a function)."
   ]
  },
  {
   "cell_type": "code",
   "execution_count": null,
   "metadata": {},
   "outputs": [],
   "source": [
    "from my_module import sum_of_people\n",
    "\n",
    "english_sum, others_sum = sum_of_people()\n",
    "\n",
    "#Sum is for all years\n",
    "print(english_sum)\n",
    "print(others_sum)\n",
    "\n"
   ]
  },
  {
   "cell_type": "markdown",
   "metadata": {},
   "source": [
    "4. Now create another function that can take 2 arguments:\n",
    "1: the dataset in the form of a 2dimensional data array where y=data rows and x=[year, area, age nationality, amount].\n",
    "2: the mask in the form: data[:,3] == 5120 to find swedish or data[:,0] == 1999 to filter on year\n",
    "the return value must be the filtered dataset."
   ]
  },
  {
   "cell_type": "code",
   "execution_count": null,
   "metadata": {},
   "outputs": [],
   "source": [
    "from my_module import filter_2d_array\n",
    "from my_module import csv_to_np_array\n",
    "\n",
    "two_d_array = csv_to_np_array()\n",
    "\n",
    "filtered = filter_2d_array(two_d_array, two_d_array[:,0] == 1992)\n",
    "print(filtered)\n",
    "\n"
   ]
  },
  {
   "cell_type": "markdown",
   "metadata": {},
   "source": [
    "5. Create another function that can take 2 arguments:\n",
    "a dataset with same characteristics as above and\n",
    "a value for the x-axis (either year, area, age or nationality)\n",
    "return value should be the accumulated population for all x-values.\n",
    "hint: if year is chosen for x then y is all accumulated amounts from all areas, ages and nationalities."
   ]
  },
  {
   "cell_type": "code",
   "execution_count": null,
   "metadata": {},
   "outputs": [],
   "source": [
    "from my_module import get_population_from_x\n",
    "from my_module import csv_to_np_array\n",
    "\n",
    "accumu = get_population_from_x(csv_to_np_array(), 1)\n",
    "print(accumu)"
   ]
  },
  {
   "cell_type": "markdown",
   "metadata": {},
   "source": [
    "6. Create Illustration 1: In your notebook use the above function and create a 2d array of year as x and accumulated amount as y:\n",
    "create a line graph of the population change over time for all of Copenhagen\n"
   ]
  },
  {
   "cell_type": "code",
   "execution_count": null,
   "metadata": {},
   "outputs": [],
   "source": [
    "from my_module import get_population_from_x\n",
    "from my_module import csv_to_np_array\n",
    "import matplotlib.pyplot as plt\n",
    "%matplotlib notebook\n",
    "                            \n",
    "data = get_population_from_x(csv_to_np_array(), 0)\n",
    "\n",
    "plt.figure()\n",
    "\n",
    "plt.xlabel('X value')\n",
    "plt.ylabel('Population')\n",
    "plt.title('Filtered Copenhagen population by x value', fontsize=12)\n",
    "\n",
    "plt.plot(data.keys() ,data.values())"
   ]
  },
  {
   "cell_type": "markdown",
   "metadata": {},
   "source": [
    "7. Create illustration 2: In your notebook use your module to create a dataset where development of all German citizens can be shown over time"
   ]
  },
  {
   "cell_type": "code",
   "execution_count": null,
   "metadata": {},
   "outputs": [],
   "source": [
    "import matplotlib.pyplot as plt\n",
    "from my_module import get_population_from_x\n",
    "from my_module import csv_to_np_array\n",
    "from my_module import filter_2d_array\n",
    "from my_module import csv_to_np_array\n",
    "%matplotlib notebook\n",
    "\n",
    "\n",
    "two_d_array = csv_to_np_array()\n",
    "\n",
    "filtered = filter_2d_array(two_d_array, two_d_array[:,3] == 5180)\n",
    "\n",
    "\n",
    "data = get_population_from_x(filtered, 0)\n",
    "\n",
    "plt.figure()\n",
    "\n",
    "plt.xlabel('Year')\n",
    "plt.ylabel('Population')\n",
    "plt.title('German population by year', fontsize=12)\n",
    "\n",
    "plt.plot(data.keys() ,data.values())"
   ]
  },
  {
   "cell_type": "markdown",
   "metadata": {},
   "source": [
    "8. Create illustration 3: Show a bar plot of all the 18-25 year old in the different areas of copenhagen and in the same plot show (in a different color) all 60-67 year old in the different areas."
   ]
  },
  {
   "cell_type": "code",
   "execution_count": null,
   "metadata": {},
   "outputs": [],
   "source": [
    "from my_module import filter_2d_array\n",
    "from my_module import csv_to_np_array\n",
    "from my_module import get_population_from_x\n",
    "import numpy as np\n",
    "import matplotlib.pyplot as plt\n",
    "%matplotlib notebook\n",
    "\n",
    "\n",
    "\n",
    "two_d_array = csv_to_np_array()\n",
    "\n",
    "young_age_mask = (two_d_array[:,2] > 17) & (two_d_array[:,2] < 26)\n",
    "old_age_mask = (two_d_array[:,2] > 59) & (two_d_array[:,2] < 68)\n",
    "\n",
    "youngins = two_d_array[young_age_mask]\n",
    "oldies = two_d_array[old_age_mask]\n",
    "\n",
    "youngins_by_neighb = get_population_from_x(youngins, 1)\n",
    "oldies_by_neighb = get_population_from_x(oldies, 1)\n",
    "\n",
    "plt.figure()\n",
    "\n",
    "barwidth = 0.3\n",
    "\n",
    "# makes the x values for the bars\n",
    "x_youngins = np.arange(len(youngins_by_neighb.keys()))\n",
    "x_oldies = [x + barwidth for x in x_youngins]\n",
    "\n",
    "\n",
    "plt.title('Distribution of citizens aged 18-25 and 60-67 1992-2015 summed', fontsize=12)\n",
    "\n",
    "#sets the ticks on the x-axis and label the ticks. barwidth / 2 to set the tick between the bars\n",
    "plt.xticks([r + (barwidth / 2) for r in range(len(youngins_by_neighb.keys()))], youngins_by_neighb.keys())\n",
    "\n",
    "\n",
    "plt.xlabel(\"Area\", fontsize=10)\n",
    "plt.ylabel(\"Amount\", fontsize=10)\n",
    "\n",
    "y_plot = plt.bar(x_youngins, youngins_by_neighb.values(), width=barwidth, align='center')\n",
    "o_plot = plt.bar(x_oldies, oldies_by_neighb.values(), width=barwidth, align='center')\n",
    "\n",
    "plt.legend((y_plot, o_plot), ('18-25', '60-67'))"
   ]
  },
  {
   "cell_type": "markdown",
   "metadata": {},
   "source": [
    "9. Create illustration 4: show a pie chart of age groups (0-10, 10-20, 20-30 ...) in Østerbro part of Copenhagen. create another similar piechart for Vesterbro."
   ]
  },
  {
   "cell_type": "code",
   "execution_count": null,
   "metadata": {},
   "outputs": [],
   "source": [
    "#østerbro = 1\n",
    "from my_module import filter_2d_array\n",
    "from my_module import csv_to_np_array\n",
    "from my_module import get_population_from_x\n",
    "import numpy as np\n",
    "import matplotlib.pyplot as plt\n",
    "%matplotlib notebook\n",
    "\n",
    "data = csv_to_np_array()\n",
    "\n",
    "oesterbro_mask = data[:,1] == 1\n",
    "vesterbro_mask = data[:,1] == 4\n",
    "\n",
    "oesterbro_data = data[oesterbro_mask]\n",
    "vesterbro_data = data[vesterbro_mask]\n",
    "\n",
    "\n",
    "oesterbro_age_range = range(min(oesterbro_data[:,2]),max(oesterbro_data[:,2]),10)\n",
    "vesterbro_age_range = range(min(vesterbro_data[:,2]),max(vesterbro_data[:,2]),10)\n",
    "\n",
    "                                          #Making a mask where we get the sum for every 10th increment\n",
    "oesterbro_filter_by_age = [filter_2d_array(oesterbro_data,(oesterbro_data[:,2]>=x)&(oesterbro_data[:,2]<x+10))[:,-1].sum() for x in oesterbro_age_range]\n",
    "vesterbro_filter_by_age = [filter_2d_array(vesterbro_data,(vesterbro_data[:,2]>=x)&(vesterbro_data[:,2]<x+10))[:,-1].sum() for x in vesterbro_age_range]\n",
    "\n",
    "plt.figure()\n",
    "\n",
    "plt.pie(oesterbro_filter_by_age, startangle=90)\n",
    "plt.title('Age groups in Østerbro 1992-2015 summed')\n",
    "          \n",
    "plt.legend([str(x)+'-'+str(x+10)+': '+str(oesterbro_filter_by_age[x//10]) for x in oesterbro_age_range])\n",
    "# makes the scale of the two axes equal\n",
    "plt.axis('equal')\n",
    "\n",
    "plt.figure()\n",
    "plt.pie(vesterbro_filter_by_age, startangle=90)\n",
    "plt.title('Age groups in Vesterbro 1992-2015 summed')\n",
    "\n",
    "plt.legend([str(x)+'-'+str(x+10)+': '+str(vesterbro_filter_by_age[x//10]) for x in vesterbro_age_range])\n",
    "# makes the scale of the two axes equal\n",
    "plt.axis('equal')\n",
    "# \n",
    "\n",
    "\n",
    "\n",
    "\n"
   ]
  }
 ],
 "metadata": {
  "kernelspec": {
   "display_name": "Python 3",
   "language": "python",
   "name": "python3"
  },
  "language_info": {
   "codemirror_mode": {
    "name": "ipython",
    "version": 3
   },
   "file_extension": ".py",
   "mimetype": "text/x-python",
   "name": "python",
   "nbconvert_exporter": "python",
   "pygments_lexer": "ipython3",
   "version": "3.7.1"
  }
 },
 "nbformat": 4,
 "nbformat_minor": 2
}
